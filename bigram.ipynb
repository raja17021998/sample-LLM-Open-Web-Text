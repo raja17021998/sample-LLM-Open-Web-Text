{
 "cells": [
  {
   "cell_type": "code",
   "execution_count": 2,
   "metadata": {},
   "outputs": [
    {
     "name": "stdout",
     "output_type": "stream",
     "text": [
      "cuda\n"
     ]
    }
   ],
   "source": [
    "import torch\n",
    "device= 'cuda' if torch.cuda.is_available() else 'cpu'\n",
    "print(device)\n",
    "\n",
    "block_size=8\n",
    "batch_size=4"
   ]
  },
  {
   "cell_type": "code",
   "execution_count": 3,
   "metadata": {},
   "outputs": [
    {
     "name": "stdout",
     "output_type": "stream",
     "text": [
      "233437\n"
     ]
    }
   ],
   "source": [
    "with open('wizard.txt', 'r', encoding= 'utf-8') as f:\n",
    "    text= f.read()\n",
    "    \n",
    "print(len(text))"
   ]
  },
  {
   "cell_type": "code",
   "execution_count": 4,
   "metadata": {},
   "outputs": [
    {
     "name": "stdout",
     "output_type": "stream",
     "text": [
      "  DOROTHY AND THE WIZARD IN OZ\n",
      "\n",
      "  BY\n",
      "\n",
      "  L. FRANK BAUM\n",
      "\n",
      "  AUTHOR OF THE WIZARD OF OZ, THE LAND OF OZ, OZMA OF OZ, ETC.\n",
      "\n",
      "  ILLUSTRATED BY JOHN R. NEILL\n",
      "\n",
      "  BOOKS OF WONDER WILLIAM MORROW & CO., INC. NEW\n"
     ]
    }
   ],
   "source": [
    "print(text[:200])"
   ]
  },
  {
   "cell_type": "code",
   "execution_count": 5,
   "metadata": {},
   "outputs": [],
   "source": [
    "chars= sorted(set(text))"
   ]
  },
  {
   "cell_type": "code",
   "execution_count": 6,
   "metadata": {},
   "outputs": [
    {
     "name": "stdout",
     "output_type": "stream",
     "text": [
      "['\\n', ' ', '!', '\"', '#', '&', \"'\", '(', ')', '*', ',', '-', '.', '/', '0', '1', '2', '3', '4', '5', '6', '7', '8', '9', ':', ';', '?', 'A', 'B', 'C', 'D', 'E', 'F', 'G', 'H', 'I', 'J', 'K', 'L', 'M', 'N', 'O', 'P', 'Q', 'R', 'S', 'T', 'U', 'V', 'W', 'X', 'Y', 'Z', '[', ']', '_', 'a', 'b', 'c', 'd', 'e', 'f', 'g', 'h', 'i', 'j', 'k', 'l', 'm', 'n', 'o', 'p', 'q', 'r', 's', 't', 'u', 'v', 'w', 'x', 'y', 'z', '\\ufeff']\n"
     ]
    }
   ],
   "source": [
    "print(chars)"
   ]
  },
  {
   "cell_type": "code",
   "execution_count": 7,
   "metadata": {},
   "outputs": [
    {
     "name": "stdout",
     "output_type": "stream",
     "text": [
      "83\n"
     ]
    }
   ],
   "source": [
    "print(len(chars))"
   ]
  },
  {
   "cell_type": "code",
   "execution_count": 8,
   "metadata": {},
   "outputs": [],
   "source": [
    "string_to_int= { ch: i for i,ch in enumerate(chars) }\n",
    "int_to_string= { i: ch for i,ch in enumerate(chars) }\n",
    "\n",
    "encode= lambda s: [string_to_int[c] for c in s]\n",
    "decode= lambda l: ''.join([int_to_string[i] for i in l])\n"
   ]
  },
  {
   "cell_type": "code",
   "execution_count": 9,
   "metadata": {},
   "outputs": [
    {
     "name": "stdout",
     "output_type": "stream",
     "text": [
      "[63, 60, 67, 67, 70]\n",
      "hello\n"
     ]
    }
   ],
   "source": [
    "encoded_hello= encode(\"hello\")\n",
    "print(encoded_hello)\n",
    "decoded_hello= decode(encoded_hello)\n",
    "print(decoded_hello)"
   ]
  },
  {
   "cell_type": "code",
   "execution_count": 10,
   "metadata": {},
   "outputs": [],
   "source": [
    "data= torch.tensor(encode(text), dtype= torch.long)"
   ]
  },
  {
   "cell_type": "code",
   "execution_count": 11,
   "metadata": {},
   "outputs": [
    {
     "data": {
      "text/plain": [
       "torch.Size([233437])"
      ]
     },
     "execution_count": 11,
     "metadata": {},
     "output_type": "execute_result"
    }
   ],
   "source": [
    "data.shape"
   ]
  },
  {
   "cell_type": "code",
   "execution_count": 12,
   "metadata": {},
   "outputs": [],
   "source": [
    "n= int(0.8*len(data))\n",
    "train_data= data[:n]\n",
    "val_data= data[n:]"
   ]
  },
  {
   "cell_type": "code",
   "execution_count": 13,
   "metadata": {},
   "outputs": [
    {
     "name": "stdout",
     "output_type": "stream",
     "text": [
      "when input is tensor([82]) target is 1\n",
      "when input is tensor([82,  1]) target is 1\n",
      "when input is tensor([82,  1,  1]) target is 30\n",
      "when input is tensor([82,  1,  1, 30]) target is 41\n",
      "when input is tensor([82,  1,  1, 30, 41]) target is 44\n",
      "when input is tensor([82,  1,  1, 30, 41, 44]) target is 41\n",
      "when input is tensor([82,  1,  1, 30, 41, 44, 41]) target is 46\n",
      "when input is tensor([82,  1,  1, 30, 41, 44, 41, 46]) target is 34\n"
     ]
    }
   ],
   "source": [
    "block_size= 8\n",
    "\n",
    "x= train_data[:block_size]\n",
    "y= train_data[1: block_size+1]\n",
    "\n",
    "for t in range(block_size):\n",
    "    context= x[:t+1]\n",
    "    target= y[t]\n",
    "    print(f\"when input is {context} target is {target}\")"
   ]
  },
  {
   "cell_type": "markdown",
   "metadata": {},
   "source": [
    "#### CPU VS GPU runtime"
   ]
  },
  {
   "cell_type": "code",
   "execution_count": 14,
   "metadata": {},
   "outputs": [],
   "source": [
    "import time"
   ]
  },
  {
   "cell_type": "code",
   "execution_count": 15,
   "metadata": {},
   "outputs": [
    {
     "name": "stdout",
     "output_type": "stream",
     "text": [
      "Time Elapsed: 0.03391218185424805\n",
      "Time Elapsed: 8.403530359268188\n"
     ]
    }
   ],
   "source": [
    "torch_rand1= torch.rand(10000, 10000).to(device)\n",
    "torch_rand2= torch.rand(10000, 10000).to(device)\n",
    "\n",
    "np_rand1= torch.rand(10000, 10000)\n",
    "np_rand2= torch.rand(10000, 10000)\n",
    "\n",
    "start_time= time.time()\n",
    "rand= torch_rand1 @ torch_rand2\n",
    "end_time= time.time()\n",
    "\n",
    "elapsed_time= end_time-start_time\n",
    "\n",
    "print(f\"Time Elapsed: {elapsed_time}\")\n",
    "\n",
    "start_time= time.time()\n",
    "rand= np_rand1 @ np_rand2\n",
    "end_time= time.time()\n",
    "\n",
    "elapsed_time= end_time-start_time\n",
    "\n",
    "print(f\"Time Elapsed: {elapsed_time}\")\n",
    "\n"
   ]
  },
  {
   "cell_type": "code",
   "execution_count": 20,
   "metadata": {},
   "outputs": [
    {
     "name": "stdout",
     "output_type": "stream",
     "text": [
      "tensor([0, 1, 1, 0, 1, 1, 1, 1, 1, 1, 1, 1, 1, 1, 1, 1, 0, 1, 1, 0])\n"
     ]
    }
   ],
   "source": [
    "probabilities= torch.tensor([0.1, 0.9])\n",
    "# 0 => 0 index with 10% prob and 1 index with 90% prob\n",
    "samples= torch.multinomial(probabilities, num_samples=20, replacement=True)\n",
    "print(samples)"
   ]
  },
  {
   "cell_type": "code",
   "execution_count": 21,
   "metadata": {},
   "outputs": [
    {
     "name": "stdout",
     "output_type": "stream",
     "text": [
      "tensor([[1., 0., 0., 0., 0.],\n",
      "        [1., 1., 0., 0., 0.],\n",
      "        [1., 1., 1., 0., 0.],\n",
      "        [1., 1., 1., 1., 0.],\n",
      "        [1., 1., 1., 1., 1.]])\n"
     ]
    }
   ],
   "source": [
    "triangle_lower= torch.tril(torch.ones(5,5))\n",
    "print(triangle_lower)"
   ]
  },
  {
   "cell_type": "code",
   "execution_count": 22,
   "metadata": {},
   "outputs": [
    {
     "name": "stdout",
     "output_type": "stream",
     "text": [
      "tensor([[1., 1., 1., 1., 1.],\n",
      "        [0., 1., 1., 1., 1.],\n",
      "        [0., 0., 1., 1., 1.],\n",
      "        [0., 0., 0., 1., 1.],\n",
      "        [0., 0., 0., 0., 1.]])\n"
     ]
    }
   ],
   "source": [
    "triangle_upper= torch.triu(torch.ones(5,5))\n",
    "print(triangle_upper)"
   ]
  },
  {
   "cell_type": "code",
   "execution_count": 24,
   "metadata": {},
   "outputs": [
    {
     "name": "stdout",
     "output_type": "stream",
     "text": [
      "tensor([[0., -inf, -inf, -inf, -inf],\n",
      "        [0., 0., -inf, -inf, -inf],\n",
      "        [0., 0., 0., -inf, -inf],\n",
      "        [0., 0., 0., 0., -inf],\n",
      "        [0., 0., 0., 0., 0.]])\n"
     ]
    }
   ],
   "source": [
    "masked_triangle_lower= torch.zeros(5,5).masked_fill(torch.tril(torch.ones(5,5))==0, float('-inf'))\n",
    "print(masked_triangle_lower)"
   ]
  },
  {
   "cell_type": "code",
   "execution_count": 25,
   "metadata": {},
   "outputs": [
    {
     "name": "stdout",
     "output_type": "stream",
     "text": [
      "tensor([ 8.5744,  1.7964, 12.6962], grad_fn=<SqueezeBackward4>)\n"
     ]
    }
   ],
   "source": [
    "import torch.nn as nn \n",
    "sample= torch.tensor([10.,10.,10.])\n",
    "linear= nn.Linear(3,3,bias= False)\n",
    "print(linear(sample))"
   ]
  },
  {
   "cell_type": "code",
   "execution_count": 26,
   "metadata": {},
   "outputs": [
    {
     "name": "stdout",
     "output_type": "stream",
     "text": [
      "tensor([0.0900, 0.2447, 0.6652])\n"
     ]
    }
   ],
   "source": [
    "import torch.nn.functional as F \n",
    "tensor1= torch.tensor([1.0, 2.0, 3.0])\n",
    "softmax_ouput= F.softmax(tensor1, dim=0)\n",
    "\n",
    "print(softmax_ouput)"
   ]
  },
  {
   "cell_type": "code",
   "execution_count": 27,
   "metadata": {},
   "outputs": [
    {
     "name": "stdout",
     "output_type": "stream",
     "text": [
      "torch.Size([4, 100])\n"
     ]
    }
   ],
   "source": [
    "vocab_size= 1000\n",
    "embedding_dim= 100\n",
    "embedding= nn.Embedding(vocab_size, embedding_dim)\n",
    "\n",
    "# Create some input indices \n",
    "input_indices= torch.LongTensor([1,5,3,2])\n",
    "embedded_ouput= embedding(input_indices)\n",
    "\n",
    "print(embedded_ouput.shape)"
   ]
  },
  {
   "cell_type": "code",
   "execution_count": 31,
   "metadata": {},
   "outputs": [
    {
     "name": "stdout",
     "output_type": "stream",
     "text": [
      "tensor([82317, 39334, 90593, 18290])\n",
      "inputs: \n",
      "tensor([[76, 69, 75, 73, 80, 12,  0,  0],\n",
      "        [ 0,  0,  3, 34, 60, 73, 60,  1],\n",
      "        [60, 56, 73, 10,  3,  1, 56, 69],\n",
      "        [78, 67, 80,  1, 70, 77, 60, 73]], device='cuda:0')\n",
      "targets\n",
      "tensor([[69, 75, 73, 80, 12,  0,  0,  3],\n",
      "        [ 0,  3, 34, 60, 73, 60,  1, 64],\n",
      "        [56, 73, 10,  3,  1, 56, 69, 74],\n",
      "        [67, 80,  1, 70, 77, 60, 73,  1]], device='cuda:0')\n"
     ]
    }
   ],
   "source": [
    "n= int(0.8*len(data))\n",
    "train_data= data[:n]\n",
    "val_data= data[n:]\n",
    "\n",
    "def get_batch(split):\n",
    "    data= train_data if split==\"train\" else val_data \n",
    "    ix= torch.randint(len(data)-block_size, (batch_size,))\n",
    "    print(ix)\n",
    "    x= torch.stack([data[i: i+block_size] for i in ix])\n",
    "    y= torch.stack([data[i+1: i+block_size+1] for i in ix])\n",
    "    x,y= x.to(device), y.to(device)\n",
    "    return x,y \n",
    "\n",
    "x,y= get_batch(\"train\")\n",
    "print(\"inputs: \")\n",
    "print(x)\n",
    "print(\"targets\")\n",
    "print(y)"
   ]
  },
  {
   "cell_type": "code",
   "execution_count": 32,
   "metadata": {},
   "outputs": [],
   "source": [
    "from torch.nn import functional as F"
   ]
  },
  {
   "cell_type": "code",
   "execution_count": 36,
   "metadata": {},
   "outputs": [
    {
     "ename": "KeyError",
     "evalue": "643",
     "output_type": "error",
     "traceback": [
      "\u001b[1;31m---------------------------------------------------------------------------\u001b[0m",
      "\u001b[1;31mKeyError\u001b[0m                                  Traceback (most recent call last)",
      "Cell \u001b[1;32mIn[36], line 39\u001b[0m\n\u001b[0;32m     36\u001b[0m m \u001b[38;5;241m=\u001b[39m model\u001b[38;5;241m.\u001b[39mto(device)\n\u001b[0;32m     38\u001b[0m context \u001b[38;5;241m=\u001b[39m torch\u001b[38;5;241m.\u001b[39mzeros((\u001b[38;5;241m1\u001b[39m,\u001b[38;5;241m1\u001b[39m), dtype\u001b[38;5;241m=\u001b[39mtorch\u001b[38;5;241m.\u001b[39mlong, device\u001b[38;5;241m=\u001b[39mdevice)\n\u001b[1;32m---> 39\u001b[0m generated_chars \u001b[38;5;241m=\u001b[39m decode(m\u001b[38;5;241m.\u001b[39mgenerate(context, max_new_tokens\u001b[38;5;241m=\u001b[39m\u001b[38;5;241m500\u001b[39m)[\u001b[38;5;241m0\u001b[39m]\u001b[38;5;241m.\u001b[39mtolist())\n\u001b[0;32m     40\u001b[0m \u001b[38;5;28mprint\u001b[39m(generated_chars)\n",
      "Cell \u001b[1;32mIn[8], line 5\u001b[0m, in \u001b[0;36m<lambda>\u001b[1;34m(l)\u001b[0m\n\u001b[0;32m      2\u001b[0m int_to_string\u001b[38;5;241m=\u001b[39m { i: ch \u001b[38;5;28;01mfor\u001b[39;00m i,ch \u001b[38;5;129;01min\u001b[39;00m \u001b[38;5;28menumerate\u001b[39m(chars) }\n\u001b[0;32m      4\u001b[0m encode\u001b[38;5;241m=\u001b[39m \u001b[38;5;28;01mlambda\u001b[39;00m s: [string_to_int[c] \u001b[38;5;28;01mfor\u001b[39;00m c \u001b[38;5;129;01min\u001b[39;00m s]\n\u001b[1;32m----> 5\u001b[0m decode\u001b[38;5;241m=\u001b[39m \u001b[38;5;28;01mlambda\u001b[39;00m l: \u001b[38;5;124m'\u001b[39m\u001b[38;5;124m'\u001b[39m\u001b[38;5;241m.\u001b[39mjoin([int_to_string[i] \u001b[38;5;28;01mfor\u001b[39;00m i \u001b[38;5;129;01min\u001b[39;00m l])\n",
      "Cell \u001b[1;32mIn[8], line 5\u001b[0m, in \u001b[0;36m<listcomp>\u001b[1;34m(.0)\u001b[0m\n\u001b[0;32m      2\u001b[0m int_to_string\u001b[38;5;241m=\u001b[39m { i: ch \u001b[38;5;28;01mfor\u001b[39;00m i,ch \u001b[38;5;129;01min\u001b[39;00m \u001b[38;5;28menumerate\u001b[39m(chars) }\n\u001b[0;32m      4\u001b[0m encode\u001b[38;5;241m=\u001b[39m \u001b[38;5;28;01mlambda\u001b[39;00m s: [string_to_int[c] \u001b[38;5;28;01mfor\u001b[39;00m c \u001b[38;5;129;01min\u001b[39;00m s]\n\u001b[1;32m----> 5\u001b[0m decode\u001b[38;5;241m=\u001b[39m \u001b[38;5;28;01mlambda\u001b[39;00m l: \u001b[38;5;124m'\u001b[39m\u001b[38;5;124m'\u001b[39m\u001b[38;5;241m.\u001b[39mjoin([int_to_string[i] \u001b[38;5;28;01mfor\u001b[39;00m i \u001b[38;5;129;01min\u001b[39;00m l])\n",
      "\u001b[1;31mKeyError\u001b[0m: 643"
     ]
    }
   ],
   "source": [
    "class BigramLanguageModel(nn.Module):\n",
    "    def __init__(self, vocab_size):\n",
    "        super().__init__()\n",
    "        self.token_embedding_table= nn.Embedding(vocab_size, vocab_size)\n",
    "        \n",
    "    def forward(self, index, targets=None):\n",
    "        logits= self.token_embedding_table(index)\n",
    "\n",
    "        if targets is None:\n",
    "            loss= None \n",
    "        else:\n",
    "            B,T,C= logits.shape\n",
    "            logits= logits.view(B*T,C)\n",
    "            targets= targets.view(B*T)\n",
    "            loss= F.cross_entropy(logits,targets)\n",
    "        \n",
    "        return logits, loss \n",
    "        \n",
    "    def generate(self, index, max_new_tokens):\n",
    "        for _ in range(max_new_tokens):\n",
    "            # get preds\n",
    "            logits, loss= self.forward(index)\n",
    "            # focus only on the last time stamp \n",
    "            logits= logits[:, -1, :] # becomes (B,C)\n",
    "            # apply softmax to get probs \n",
    "            probs= F.softmax(logits, dim=-1) # (B,C)\n",
    "            # sample from distribution \n",
    "            index_next= torch.multinomial(probs, num_samples=1) # (B,1)\n",
    "            # append sampled index to the running sequence \n",
    "            index= torch.cat((index, index_next), dim=1) # (B,T+1)\n",
    "        return index \n",
    "    \n",
    "model= BigramLanguageModel(vocab_size)\n",
    "m= model.to(device)\n",
    "\n",
    "context= torch.zeros((1,1), dtype= torch.long, device= device)\n",
    "generated_chars= decode(m.generate(context, max_new_tokens=500)[0].tolist())\n",
    "print(generated_chars)    "
   ]
  },
  {
   "cell_type": "code",
   "execution_count": 37,
   "metadata": {},
   "outputs": [
    {
     "name": "stdout",
     "output_type": "stream",
     "text": [
      "cuda\n"
     ]
    }
   ],
   "source": [
    "import torch\n",
    "import torch.nn as nn\n",
    "from torch.nn import functional as F\n",
    "device = 'cuda' if torch.cuda.is_available() else 'cpu'\n",
    "print(device)\n",
    "block_size = 8\n",
    "batch_size = 4\n",
    "max_iters = 1000\n",
    "# eval_interval = 2500\n",
    "learning_rate = 3e-4\n",
    "eval_iters = 250"
   ]
  },
  {
   "cell_type": "code",
   "execution_count": 39,
   "metadata": {},
   "outputs": [
    {
     "name": "stdout",
     "output_type": "stream",
     "text": [
      "['\\n', ' ', '!', '\"', '#', '&', \"'\", '(', ')', '*', ',', '-', '.', '/', '0', '1', '2', '3', '4', '5', '6', '7', '8', '9', ':', ';', '?', 'A', 'B', 'C', 'D', 'E', 'F', 'G', 'H', 'I', 'J', 'K', 'L', 'M', 'N', 'O', 'P', 'Q', 'R', 'S', 'T', 'U', 'V', 'W', 'X', 'Y', 'Z', '[', ']', '_', 'a', 'b', 'c', 'd', 'e', 'f', 'g', 'h', 'i', 'j', 'k', 'l', 'm', 'n', 'o', 'p', 'q', 'r', 's', 't', 'u', 'v', 'w', 'x', 'y', 'z', '\\ufeff']\n"
     ]
    }
   ],
   "source": [
    "with open('wizard.txt', 'r', encoding='utf-8') as f:\n",
    "    text = f.read()\n",
    "chars = sorted(set(text))\n",
    "print(chars)\n",
    "vocab_size = len(chars)"
   ]
  },
  {
   "cell_type": "code",
   "execution_count": 40,
   "metadata": {},
   "outputs": [],
   "source": [
    "string_to_int = { ch:i for i,ch in enumerate(chars) }\n",
    "int_to_string = { i:ch for i,ch in enumerate(chars) }\n",
    "encode = lambda s: [string_to_int[c] for c in s]\n",
    "decode = lambda l: ''.join([int_to_string[i] for i in l])\n",
    "\n",
    "data = torch.tensor(encode(text), dtype=torch.long)\n",
    "# print(data[:100])"
   ]
  },
  {
   "cell_type": "code",
   "execution_count": 41,
   "metadata": {},
   "outputs": [
    {
     "name": "stdout",
     "output_type": "stream",
     "text": [
      "inputs:\n",
      "tensor([[ 0,  0,  3, 35,  1, 59, 70, 69],\n",
      "        [60, 58, 75, 74, 12,  0,  0, 40],\n",
      "        [60, 75, 74,  1, 56, 69, 59,  1],\n",
      "        [75,  1, 73, 60, 68, 56, 64, 69]], device='cuda:0')\n",
      "targets:\n",
      "tensor([[ 0,  3, 35,  1, 59, 70, 69,  6],\n",
      "        [58, 75, 74, 12,  0,  0, 40, 70],\n",
      "        [75, 74,  1, 56, 69, 59,  1, 57],\n",
      "        [ 1, 73, 60, 68, 56, 64, 69, 60]], device='cuda:0')\n"
     ]
    }
   ],
   "source": [
    "n = int(0.8*len(data))\n",
    "train_data = data[:n]\n",
    "val_data = data[n:]\n",
    "\n",
    "def get_batch(split):\n",
    "    data = train_data if split == 'train' else val_data\n",
    "    ix = torch.randint(len(data) - block_size, (batch_size,))\n",
    "    x = torch.stack([data[i:i+block_size] for i in ix])\n",
    "    y = torch.stack([data[i+1:i+block_size+1] for i in ix])\n",
    "    x, y = x.to(device), y.to(device)\n",
    "    return x, y\n",
    "\n",
    "x, y = get_batch('train')\n",
    "print('inputs:')\n",
    "# print(x.shape)\n",
    "print(x)\n",
    "print('targets:')\n",
    "print(y)"
   ]
  },
  {
   "cell_type": "code",
   "execution_count": 42,
   "metadata": {},
   "outputs": [
    {
     "name": "stdout",
     "output_type": "stream",
     "text": [
      "\n",
      "kZZQlvInLIJ*m3sWnYJzqb9E?quSveNwP8cP)foodyW2?c5.E.﻿A[*mCyR:;BtQMPAn4 B.ErH-9PXz(v]].z\n",
      "iyco0tmZ[Yp/u0Az4'\"C?E0N&V0k*(h﻿O&iM?;/Nj\"Wnk3T( f\"WcR]Vo:t;KcDqK!,RN0(ijvcDI/i ]nx4?;p;[Ux?aU;p7e﻿L*]nJ_h0&K8H:V﻿!rLiBh﻿Yp4arF&iUx j8XkcvAu﻿#cgfQL5uy!Dq[Uie'db9t3[pi'AgGR]s.G&*iI/oth!kPdClYd&A(FSMn2oXwNN4?GKO0(2mV?4\n",
      "geIQFIpd.,6*;4ekzhUr*[M_qO1!j8N)Q3f)V95p5[?8iD)R-r0u o[ql:JN/mc4OT\":tKnva U\n",
      "k#vABT;LU6&wsxBh0;F:UuG3Li9mUaf-t1﻿YMYgc)oN/wNfiSd4'AMV?*rKxHF*hp7A8)i&hrwmwOlYdg4'A&tkSS4?Z6eT;)\"*2JN&CJk3y!A!XanHLdAR\"C\n"
     ]
    }
   ],
   "source": [
    "# class BigramLanguageModel(nn.Module):\n",
    "#     def __init__(self, vocab_size):\n",
    "#         super().__init__()\n",
    "#         self.token_embedding_table = nn.Embedding(vocab_size, vocab_size)\n",
    "        \n",
    "#     def forward(self, index, targets=None):\n",
    "#         logits = self.token_embedding_table(index)\n",
    "        \n",
    "        \n",
    "#         if targets is None:\n",
    "#             loss = None\n",
    "#         else:\n",
    "#             B, T, C = logits.shape\n",
    "#             logits = logits.view(B*T, C)\n",
    "#             targets = targets.view(B*T)\n",
    "#             loss = F.cross_entropy(logits, targets)\n",
    "        \n",
    "#         return logits, loss\n",
    "    \n",
    "#     def generate(self, index, max_new_tokens):\n",
    "#         # index is (B, T) array of indices in the current context\n",
    "#         for _ in range(max_new_tokens):\n",
    "#             # get the predictions\n",
    "#             logits, loss = self.forward(index)\n",
    "#             # focus only on the last time step\n",
    "#             logits = logits[:, -1, :] # becomes (B, C)\n",
    "#             # apply softmax to get probabilities\n",
    "#             probs = F.softmax(logits, dim=-1) # (B, C)\n",
    "#             # sample from the distribution\n",
    "#             index_next = torch.multinomial(probs, num_samples=1) # (B, 1)\n",
    "#             # append sampled index to the running sequence\n",
    "#             index = torch.cat((index, index_next), dim=1) # (B, T+1)\n",
    "#         return index\n",
    "\n",
    "# model = BigramLanguageModel(vocab_size)\n",
    "# m = model.to(device)\n",
    "\n",
    "# context = torch.zeros((1,1), dtype=torch.long, device=device)\n",
    "# generated_chars = decode(m.generate(context, max_new_tokens=500)[0].tolist())\n",
    "# print(generated_chars)"
   ]
  },
  {
   "cell_type": "code",
   "execution_count": null,
   "metadata": {},
   "outputs": [],
   "source": []
  },
  {
   "cell_type": "code",
   "execution_count": null,
   "metadata": {},
   "outputs": [],
   "source": []
  },
  {
   "cell_type": "code",
   "execution_count": null,
   "metadata": {},
   "outputs": [],
   "source": []
  },
  {
   "cell_type": "code",
   "execution_count": null,
   "metadata": {},
   "outputs": [],
   "source": []
  },
  {
   "cell_type": "code",
   "execution_count": null,
   "metadata": {},
   "outputs": [],
   "source": []
  },
  {
   "cell_type": "code",
   "execution_count": null,
   "metadata": {},
   "outputs": [],
   "source": []
  },
  {
   "cell_type": "code",
   "execution_count": null,
   "metadata": {},
   "outputs": [],
   "source": []
  },
  {
   "cell_type": "code",
   "execution_count": null,
   "metadata": {},
   "outputs": [],
   "source": []
  },
  {
   "cell_type": "code",
   "execution_count": null,
   "metadata": {},
   "outputs": [],
   "source": []
  },
  {
   "cell_type": "code",
   "execution_count": null,
   "metadata": {},
   "outputs": [],
   "source": []
  },
  {
   "cell_type": "code",
   "execution_count": null,
   "metadata": {},
   "outputs": [],
   "source": []
  },
  {
   "cell_type": "code",
   "execution_count": null,
   "metadata": {},
   "outputs": [],
   "source": []
  },
  {
   "cell_type": "code",
   "execution_count": null,
   "metadata": {},
   "outputs": [],
   "source": []
  },
  {
   "cell_type": "code",
   "execution_count": null,
   "metadata": {},
   "outputs": [],
   "source": []
  },
  {
   "cell_type": "code",
   "execution_count": null,
   "metadata": {},
   "outputs": [],
   "source": []
  },
  {
   "cell_type": "code",
   "execution_count": null,
   "metadata": {},
   "outputs": [],
   "source": []
  },
  {
   "cell_type": "code",
   "execution_count": null,
   "metadata": {},
   "outputs": [],
   "source": []
  },
  {
   "cell_type": "code",
   "execution_count": null,
   "metadata": {},
   "outputs": [],
   "source": []
  },
  {
   "cell_type": "code",
   "execution_count": null,
   "metadata": {},
   "outputs": [],
   "source": []
  },
  {
   "cell_type": "code",
   "execution_count": null,
   "metadata": {},
   "outputs": [],
   "source": []
  },
  {
   "cell_type": "code",
   "execution_count": null,
   "metadata": {},
   "outputs": [],
   "source": []
  },
  {
   "cell_type": "code",
   "execution_count": null,
   "metadata": {},
   "outputs": [],
   "source": []
  },
  {
   "cell_type": "code",
   "execution_count": null,
   "metadata": {},
   "outputs": [],
   "source": []
  },
  {
   "cell_type": "code",
   "execution_count": null,
   "metadata": {},
   "outputs": [],
   "source": []
  },
  {
   "cell_type": "code",
   "execution_count": null,
   "metadata": {},
   "outputs": [],
   "source": []
  }
 ],
 "metadata": {
  "kernelspec": {
   "display_name": "Python 3",
   "language": "python",
   "name": "python3"
  },
  "language_info": {
   "codemirror_mode": {
    "name": "ipython",
    "version": 3
   },
   "file_extension": ".py",
   "mimetype": "text/x-python",
   "name": "python",
   "nbconvert_exporter": "python",
   "pygments_lexer": "ipython3",
   "version": "3.11.5"
  }
 },
 "nbformat": 4,
 "nbformat_minor": 2
}
